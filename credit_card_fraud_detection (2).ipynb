{
  "cells": [
    {
      "cell_type": "code",
      "execution_count": 60,
      "metadata": {
        "colab": {
          "base_uri": "https://localhost:8080/",
          "height": 568
        },
        "id": "b1e97a19",
        "outputId": "f2787cd0-06fe-41e8-8e9a-1d3c66d15457"
      },
      "outputs": [
        {
          "name": "stdout",
          "output_type": "stream",
          "text": [
            "Dataset loaded successfully!\n"
          ]
        },
        {
          "data": {
            "text/html": [
              "<div>\n",
              "<style scoped>\n",
              "    .dataframe tbody tr th:only-of-type {\n",
              "        vertical-align: middle;\n",
              "    }\n",
              "\n",
              "    .dataframe tbody tr th {\n",
              "        vertical-align: top;\n",
              "    }\n",
              "\n",
              "    .dataframe thead th {\n",
              "        text-align: right;\n",
              "    }\n",
              "</style>\n",
              "<table border=\"1\" class=\"dataframe\">\n",
              "  <thead>\n",
              "    <tr style=\"text-align: right;\">\n",
              "      <th></th>\n",
              "      <th>Unnamed: 0</th>\n",
              "      <th>trans_date_trans_time</th>\n",
              "      <th>cc_num</th>\n",
              "      <th>merchant</th>\n",
              "      <th>category</th>\n",
              "      <th>amt</th>\n",
              "      <th>first</th>\n",
              "      <th>last</th>\n",
              "      <th>gender</th>\n",
              "      <th>street</th>\n",
              "      <th>...</th>\n",
              "      <th>lat</th>\n",
              "      <th>long</th>\n",
              "      <th>city_pop</th>\n",
              "      <th>job</th>\n",
              "      <th>dob</th>\n",
              "      <th>trans_num</th>\n",
              "      <th>unix_time</th>\n",
              "      <th>merch_lat</th>\n",
              "      <th>merch_long</th>\n",
              "      <th>is_fraud</th>\n",
              "    </tr>\n",
              "  </thead>\n",
              "  <tbody>\n",
              "    <tr>\n",
              "      <th>0</th>\n",
              "      <td>0</td>\n",
              "      <td>2019-01-01 00:00:18</td>\n",
              "      <td>2703186189652095</td>\n",
              "      <td>fraud_Rippin, Kub and Mann</td>\n",
              "      <td>misc_net</td>\n",
              "      <td>4.97</td>\n",
              "      <td>Jennifer</td>\n",
              "      <td>Banks</td>\n",
              "      <td>F</td>\n",
              "      <td>561 Perry Cove</td>\n",
              "      <td>...</td>\n",
              "      <td>36.0788</td>\n",
              "      <td>-81.1781</td>\n",
              "      <td>3495</td>\n",
              "      <td>Psychologist, counselling</td>\n",
              "      <td>1988-03-09</td>\n",
              "      <td>0b242abb623afc578575680df30655b9</td>\n",
              "      <td>1325376018</td>\n",
              "      <td>36.011293</td>\n",
              "      <td>-82.048315</td>\n",
              "      <td>0</td>\n",
              "    </tr>\n",
              "    <tr>\n",
              "      <th>1</th>\n",
              "      <td>1</td>\n",
              "      <td>2019-01-01 00:00:44</td>\n",
              "      <td>630423337322</td>\n",
              "      <td>fraud_Heller, Gutmann and Zieme</td>\n",
              "      <td>grocery_pos</td>\n",
              "      <td>107.23</td>\n",
              "      <td>Stephanie</td>\n",
              "      <td>Gill</td>\n",
              "      <td>F</td>\n",
              "      <td>43039 Riley Greens Suite 393</td>\n",
              "      <td>...</td>\n",
              "      <td>48.8878</td>\n",
              "      <td>-118.2105</td>\n",
              "      <td>149</td>\n",
              "      <td>Special educational needs teacher</td>\n",
              "      <td>1978-06-21</td>\n",
              "      <td>1f76529f8574734946361c461b024d99</td>\n",
              "      <td>1325376044</td>\n",
              "      <td>49.159047</td>\n",
              "      <td>-118.186462</td>\n",
              "      <td>0</td>\n",
              "    </tr>\n",
              "    <tr>\n",
              "      <th>2</th>\n",
              "      <td>2</td>\n",
              "      <td>2019-01-01 00:00:51</td>\n",
              "      <td>38859492057661</td>\n",
              "      <td>fraud_Lind-Buckridge</td>\n",
              "      <td>entertainment</td>\n",
              "      <td>220.11</td>\n",
              "      <td>Edward</td>\n",
              "      <td>Sanchez</td>\n",
              "      <td>M</td>\n",
              "      <td>594 White Dale Suite 530</td>\n",
              "      <td>...</td>\n",
              "      <td>42.1808</td>\n",
              "      <td>-112.2620</td>\n",
              "      <td>4154</td>\n",
              "      <td>Nature conservation officer</td>\n",
              "      <td>1962-01-19</td>\n",
              "      <td>a1a22d70485983eac12b5b88dad1cf95</td>\n",
              "      <td>1325376051</td>\n",
              "      <td>43.150704</td>\n",
              "      <td>-112.154481</td>\n",
              "      <td>0</td>\n",
              "    </tr>\n",
              "    <tr>\n",
              "      <th>3</th>\n",
              "      <td>3</td>\n",
              "      <td>2019-01-01 00:01:16</td>\n",
              "      <td>3534093764340240</td>\n",
              "      <td>fraud_Kutch, Hermiston and Farrell</td>\n",
              "      <td>gas_transport</td>\n",
              "      <td>45.00</td>\n",
              "      <td>Jeremy</td>\n",
              "      <td>White</td>\n",
              "      <td>M</td>\n",
              "      <td>9443 Cynthia Court Apt. 038</td>\n",
              "      <td>...</td>\n",
              "      <td>46.2306</td>\n",
              "      <td>-112.1138</td>\n",
              "      <td>1939</td>\n",
              "      <td>Patent attorney</td>\n",
              "      <td>1967-01-12</td>\n",
              "      <td>6b849c168bdad6f867558c3793159a81</td>\n",
              "      <td>1325376076</td>\n",
              "      <td>47.034331</td>\n",
              "      <td>-112.561071</td>\n",
              "      <td>0</td>\n",
              "    </tr>\n",
              "    <tr>\n",
              "      <th>4</th>\n",
              "      <td>4</td>\n",
              "      <td>2019-01-01 00:03:06</td>\n",
              "      <td>375534208663984</td>\n",
              "      <td>fraud_Keeling-Crist</td>\n",
              "      <td>misc_pos</td>\n",
              "      <td>41.96</td>\n",
              "      <td>Tyler</td>\n",
              "      <td>Garcia</td>\n",
              "      <td>M</td>\n",
              "      <td>408 Bradley Rest</td>\n",
              "      <td>...</td>\n",
              "      <td>38.4207</td>\n",
              "      <td>-79.4629</td>\n",
              "      <td>99</td>\n",
              "      <td>Dance movement psychotherapist</td>\n",
              "      <td>1986-03-28</td>\n",
              "      <td>a41d7549acf90789359a9aa5346dcb46</td>\n",
              "      <td>1325376186</td>\n",
              "      <td>38.674999</td>\n",
              "      <td>-78.632459</td>\n",
              "      <td>0</td>\n",
              "    </tr>\n",
              "  </tbody>\n",
              "</table>\n",
              "<p>5 rows × 23 columns</p>\n",
              "</div>"
            ],
            "text/plain": [
              "   Unnamed: 0 trans_date_trans_time            cc_num  \\\n",
              "0           0   2019-01-01 00:00:18  2703186189652095   \n",
              "1           1   2019-01-01 00:00:44      630423337322   \n",
              "2           2   2019-01-01 00:00:51    38859492057661   \n",
              "3           3   2019-01-01 00:01:16  3534093764340240   \n",
              "4           4   2019-01-01 00:03:06   375534208663984   \n",
              "\n",
              "                             merchant       category     amt      first  \\\n",
              "0          fraud_Rippin, Kub and Mann       misc_net    4.97   Jennifer   \n",
              "1     fraud_Heller, Gutmann and Zieme    grocery_pos  107.23  Stephanie   \n",
              "2                fraud_Lind-Buckridge  entertainment  220.11     Edward   \n",
              "3  fraud_Kutch, Hermiston and Farrell  gas_transport   45.00     Jeremy   \n",
              "4                 fraud_Keeling-Crist       misc_pos   41.96      Tyler   \n",
              "\n",
              "      last gender                        street  ...      lat      long  \\\n",
              "0    Banks      F                561 Perry Cove  ...  36.0788  -81.1781   \n",
              "1     Gill      F  43039 Riley Greens Suite 393  ...  48.8878 -118.2105   \n",
              "2  Sanchez      M      594 White Dale Suite 530  ...  42.1808 -112.2620   \n",
              "3    White      M   9443 Cynthia Court Apt. 038  ...  46.2306 -112.1138   \n",
              "4   Garcia      M              408 Bradley Rest  ...  38.4207  -79.4629   \n",
              "\n",
              "   city_pop                                job         dob  \\\n",
              "0      3495          Psychologist, counselling  1988-03-09   \n",
              "1       149  Special educational needs teacher  1978-06-21   \n",
              "2      4154        Nature conservation officer  1962-01-19   \n",
              "3      1939                    Patent attorney  1967-01-12   \n",
              "4        99     Dance movement psychotherapist  1986-03-28   \n",
              "\n",
              "                          trans_num   unix_time  merch_lat  merch_long  \\\n",
              "0  0b242abb623afc578575680df30655b9  1325376018  36.011293  -82.048315   \n",
              "1  1f76529f8574734946361c461b024d99  1325376044  49.159047 -118.186462   \n",
              "2  a1a22d70485983eac12b5b88dad1cf95  1325376051  43.150704 -112.154481   \n",
              "3  6b849c168bdad6f867558c3793159a81  1325376076  47.034331 -112.561071   \n",
              "4  a41d7549acf90789359a9aa5346dcb46  1325376186  38.674999  -78.632459   \n",
              "\n",
              "   is_fraud  \n",
              "0         0  \n",
              "1         0  \n",
              "2         0  \n",
              "3         0  \n",
              "4         0  \n",
              "\n",
              "[5 rows x 23 columns]"
            ]
          },
          "metadata": {},
          "output_type": "display_data"
        }
      ],
      "source": [
        "import pandas as pd\n",
        "import pickle\n",
        "\n",
        "# Replace 'fraudTrain.csv' with the actual name of your uploaded dataset file\n",
        "try:\n",
        "    df = pd.read_csv('fraudTrain.csv')\n",
        "    print(\"Dataset loaded successfully!\")\n",
        "    display(df.head())\n",
        "except FileNotFoundError:\n",
        "    print(\"Error: Dataset file not found. Please make sure you have uploaded the dataset and the file name is correct.\")\n",
        "except Exception as e:\n",
        "    print(f\"An error occurred while loading the dataset: {e}\")"
      ]
    },
    {
      "cell_type": "code",
      "execution_count": 61,
      "metadata": {
        "colab": {
          "base_uri": "https://localhost:8080/",
          "height": 195
        },
        "id": "27b73f0c",
        "outputId": "1d2d5477-015f-413e-81c0-f1b3d435e530"
      },
      "outputs": [
        {
          "name": "stdout",
          "output_type": "stream",
          "text": [
            "Distribution of 'is_fraud' in balanced dataset:\n"
          ]
        },
        {
          "data": {
            "text/plain": [
              "is_fraud\n",
              "0    7506\n",
              "1    7506\n",
              "Name: count, dtype: int64"
            ]
          },
          "metadata": {},
          "output_type": "display_data"
        }
      ],
      "source": [
        "from sklearn.utils import resample\n",
        "\n",
        "# Separate features (X) and target (y)\n",
        "X = df.drop('is_fraud', axis=1)\n",
        "y = df['is_fraud']\n",
        "\n",
        "# Identify majority and minority classes\n",
        "df_majority = df[df.is_fraud==0]\n",
        "df_minority = df[df.is_fraud==1]\n",
        "\n",
        "# Undersample majority class\n",
        "df_majority_undersampled = resample(df_majority,\n",
        "                                    replace=False,\n",
        "                                    n_samples=len(df_minority),\n",
        "                                    random_state=42)\n",
        "\n",
        "# Concatenate minority and undersampled majority class\n",
        "df_balanced = pd.concat([df_majority_undersampled, df_minority])\n",
        "\n",
        "# Shuffle the balanced dataframe\n",
        "df_balanced = df_balanced.sample(frac=1, random_state=42).reset_index(drop=True)\n",
        "\n",
        "# Display the distribution of the target variable in the balanced dataset\n",
        "print(\"Distribution of 'is_fraud' in balanced dataset:\")\n",
        "display(df_balanced['is_fraud'].value_counts())"
      ]
    },
    {
      "cell_type": "code",
      "execution_count": 62,
      "metadata": {
        "colab": {
          "base_uri": "https://localhost:8080/"
        },
        "id": "cebb9ed3",
        "outputId": "5329c1ff-97b8-4710-bccb-beba0357fd2b"
      },
      "outputs": [
        {
          "name": "stdout",
          "output_type": "stream",
          "text": [
            "Requirement already satisfied: haversine in c:\\python313\\lib\\site-packages (2.9.0)\n"
          ]
        }
      ],
      "source": [
        "!pip install haversine"
      ]
    },
    {
      "cell_type": "code",
      "execution_count": 63,
      "metadata": {},
      "outputs": [
        {
          "name": "stdout",
          "output_type": "stream",
          "text": [
            "Requirement already satisfied: haversine in c:\\users\\dell\\appdata\\local\\programs\\python\\python310\\lib\\site-packages (2.9.0)\n"
          ]
        },
        {
          "name": "stderr",
          "output_type": "stream",
          "text": [
            "\n",
            "[notice] A new release of pip is available: 25.1.1 -> 25.2\n",
            "[notice] To update, run: python.exe -m pip install --upgrade pip\n"
          ]
        }
      ],
      "source": [
        "import sys\n",
        "!{sys.executable} -m pip install haversine\n"
      ]
    },
    {
      "cell_type": "code",
      "execution_count": 64,
      "metadata": {
        "colab": {
          "base_uri": "https://localhost:8080/",
          "height": 206
        },
        "id": "979a4cea",
        "outputId": "c901f967-2cd5-4579-f5e2-eca5d8c0aec5"
      },
      "outputs": [
        {
          "data": {
            "text/html": [
              "<div>\n",
              "<style scoped>\n",
              "    .dataframe tbody tr th:only-of-type {\n",
              "        vertical-align: middle;\n",
              "    }\n",
              "\n",
              "    .dataframe tbody tr th {\n",
              "        vertical-align: top;\n",
              "    }\n",
              "\n",
              "    .dataframe thead th {\n",
              "        text-align: right;\n",
              "    }\n",
              "</style>\n",
              "<table border=\"1\" class=\"dataframe\">\n",
              "  <thead>\n",
              "    <tr style=\"text-align: right;\">\n",
              "      <th></th>\n",
              "      <th>lat</th>\n",
              "      <th>long</th>\n",
              "      <th>merch_lat</th>\n",
              "      <th>merch_long</th>\n",
              "      <th>distance</th>\n",
              "    </tr>\n",
              "  </thead>\n",
              "  <tbody>\n",
              "    <tr>\n",
              "      <th>0</th>\n",
              "      <td>31.4841</td>\n",
              "      <td>-97.9903</td>\n",
              "      <td>31.451097</td>\n",
              "      <td>-97.303447</td>\n",
              "      <td>40.541891</td>\n",
              "    </tr>\n",
              "    <tr>\n",
              "      <th>1</th>\n",
              "      <td>40.1334</td>\n",
              "      <td>-75.4536</td>\n",
              "      <td>40.812810</td>\n",
              "      <td>-75.959901</td>\n",
              "      <td>53.960654</td>\n",
              "    </tr>\n",
              "    <tr>\n",
              "      <th>2</th>\n",
              "      <td>33.9568</td>\n",
              "      <td>-81.1405</td>\n",
              "      <td>34.561499</td>\n",
              "      <td>-81.943123</td>\n",
              "      <td>62.019020</td>\n",
              "    </tr>\n",
              "    <tr>\n",
              "      <th>3</th>\n",
              "      <td>38.0649</td>\n",
              "      <td>-99.2374</td>\n",
              "      <td>37.241060</td>\n",
              "      <td>-98.708210</td>\n",
              "      <td>63.859734</td>\n",
              "    </tr>\n",
              "    <tr>\n",
              "      <th>4</th>\n",
              "      <td>34.3424</td>\n",
              "      <td>-80.5000</td>\n",
              "      <td>34.346041</td>\n",
              "      <td>-80.042299</td>\n",
              "      <td>26.112065</td>\n",
              "    </tr>\n",
              "  </tbody>\n",
              "</table>\n",
              "</div>"
            ],
            "text/plain": [
              "       lat     long  merch_lat  merch_long   distance\n",
              "0  31.4841 -97.9903  31.451097  -97.303447  40.541891\n",
              "1  40.1334 -75.4536  40.812810  -75.959901  53.960654\n",
              "2  33.9568 -81.1405  34.561499  -81.943123  62.019020\n",
              "3  38.0649 -99.2374  37.241060  -98.708210  63.859734\n",
              "4  34.3424 -80.5000  34.346041  -80.042299  26.112065"
            ]
          },
          "metadata": {},
          "output_type": "display_data"
        }
      ],
      "source": [
        "df_balanced['trans_date_trans_time'] = pd.to_datetime(df_balanced['trans_date_trans_time'])\n",
        "df_balanced['trans_hour'] = df_balanced['trans_date_trans_time'].dt.hour\n",
        "df_balanced['trans_day'] = df_balanced['trans_date_trans_time'].dt.dayofweek\n",
        "\n",
        "from haversine import haversine, Unit\n",
        "\n",
        "def calculate_distance(row):\n",
        "    return haversine((row['lat'], row['long']), (row['merch_lat'], row['merch_long']), unit=Unit.MILES)\n",
        "\n",
        "df_balanced['distance'] = df_balanced.apply(calculate_distance, axis=1)\n",
        "display(df_balanced[['lat', 'long', 'merch_lat', 'merch_long', 'distance']].head())"
      ]
    },
    {
      "cell_type": "code",
      "execution_count": 65,
      "metadata": {
        "colab": {
          "base_uri": "https://localhost:8080/",
          "height": 223
        },
        "id": "6e100c34",
        "outputId": "a345c15b-acc9-4359-962e-f3f4c4906eee"
      },
      "outputs": [
        {
          "name": "stdout",
          "output_type": "stream",
          "text": [
            "Selected features:\n"
          ]
        },
        {
          "data": {
            "text/html": [
              "<div>\n",
              "<style scoped>\n",
              "    .dataframe tbody tr th:only-of-type {\n",
              "        vertical-align: middle;\n",
              "    }\n",
              "\n",
              "    .dataframe tbody tr th {\n",
              "        vertical-align: top;\n",
              "    }\n",
              "\n",
              "    .dataframe thead th {\n",
              "        text-align: right;\n",
              "    }\n",
              "</style>\n",
              "<table border=\"1\" class=\"dataframe\">\n",
              "  <thead>\n",
              "    <tr style=\"text-align: right;\">\n",
              "      <th></th>\n",
              "      <th>amt</th>\n",
              "      <th>city_pop</th>\n",
              "      <th>lat</th>\n",
              "      <th>long</th>\n",
              "      <th>merch_lat</th>\n",
              "      <th>merch_long</th>\n",
              "      <th>trans_hour</th>\n",
              "      <th>trans_day</th>\n",
              "      <th>distance</th>\n",
              "    </tr>\n",
              "  </thead>\n",
              "  <tbody>\n",
              "    <tr>\n",
              "      <th>0</th>\n",
              "      <td>10.14</td>\n",
              "      <td>258</td>\n",
              "      <td>31.4841</td>\n",
              "      <td>-97.9903</td>\n",
              "      <td>31.451097</td>\n",
              "      <td>-97.303447</td>\n",
              "      <td>18</td>\n",
              "      <td>0</td>\n",
              "      <td>40.541891</td>\n",
              "    </tr>\n",
              "    <tr>\n",
              "      <th>1</th>\n",
              "      <td>87.96</td>\n",
              "      <td>737</td>\n",
              "      <td>40.1334</td>\n",
              "      <td>-75.4536</td>\n",
              "      <td>40.812810</td>\n",
              "      <td>-75.959901</td>\n",
              "      <td>3</td>\n",
              "      <td>5</td>\n",
              "      <td>53.960654</td>\n",
              "    </tr>\n",
              "    <tr>\n",
              "      <th>2</th>\n",
              "      <td>929.06</td>\n",
              "      <td>52126</td>\n",
              "      <td>33.9568</td>\n",
              "      <td>-81.1405</td>\n",
              "      <td>34.561499</td>\n",
              "      <td>-81.943123</td>\n",
              "      <td>22</td>\n",
              "      <td>4</td>\n",
              "      <td>62.019020</td>\n",
              "    </tr>\n",
              "    <tr>\n",
              "      <th>3</th>\n",
              "      <td>1051.89</td>\n",
              "      <td>365</td>\n",
              "      <td>38.0649</td>\n",
              "      <td>-99.2374</td>\n",
              "      <td>37.241060</td>\n",
              "      <td>-98.708210</td>\n",
              "      <td>23</td>\n",
              "      <td>1</td>\n",
              "      <td>63.859734</td>\n",
              "    </tr>\n",
              "    <tr>\n",
              "      <th>4</th>\n",
              "      <td>20.09</td>\n",
              "      <td>4424</td>\n",
              "      <td>34.3424</td>\n",
              "      <td>-80.5000</td>\n",
              "      <td>34.346041</td>\n",
              "      <td>-80.042299</td>\n",
              "      <td>8</td>\n",
              "      <td>6</td>\n",
              "      <td>26.112065</td>\n",
              "    </tr>\n",
              "  </tbody>\n",
              "</table>\n",
              "</div>"
            ],
            "text/plain": [
              "       amt  city_pop      lat     long  merch_lat  merch_long  trans_hour  \\\n",
              "0    10.14       258  31.4841 -97.9903  31.451097  -97.303447          18   \n",
              "1    87.96       737  40.1334 -75.4536  40.812810  -75.959901           3   \n",
              "2   929.06     52126  33.9568 -81.1405  34.561499  -81.943123          22   \n",
              "3  1051.89       365  38.0649 -99.2374  37.241060  -98.708210          23   \n",
              "4    20.09      4424  34.3424 -80.5000  34.346041  -80.042299           8   \n",
              "\n",
              "   trans_day   distance  \n",
              "0          0  40.541891  \n",
              "1          5  53.960654  \n",
              "2          4  62.019020  \n",
              "3          1  63.859734  \n",
              "4          6  26.112065  "
            ]
          },
          "metadata": {},
          "output_type": "display_data"
        }
      ],
      "source": [
        "# Select features for the model\n",
        "features = ['amt', 'city_pop', 'lat', 'long', 'merch_lat', 'merch_long', 'trans_hour', 'trans_day', 'distance']\n",
        "X_balanced = df_balanced[features]\n",
        "y_balanced = df_balanced['is_fraud']\n",
        "\n",
        "print(\"Selected features:\")\n",
        "display(X_balanced.head())"
      ]
    },
    {
      "cell_type": "code",
      "execution_count": 66,
      "metadata": {
        "colab": {
          "base_uri": "https://localhost:8080/"
        },
        "id": "0ffcc6fb",
        "outputId": "79daa22c-6fa5-4529-f433-bf1b927cc2f0"
      },
      "outputs": [
        {
          "name": "stdout",
          "output_type": "stream",
          "text": [
            "Shape of X_train: (10508, 9)\n",
            "Shape of X_test: (4504, 9)\n",
            "Shape of y_train: (10508,)\n",
            "Shape of y_test: (4504,)\n"
          ]
        }
      ],
      "source": [
        "from sklearn.model_selection import train_test_split\n",
        "\n",
        "X_train, X_test, y_train, y_test = train_test_split(X_balanced, y_balanced, test_size=0.3, random_state=42)\n",
        "\n",
        "print(\"Shape of X_train:\", X_train.shape)\n",
        "print(\"Shape of X_test:\", X_test.shape)\n",
        "print(\"Shape of y_train:\", y_train.shape)\n",
        "print(\"Shape of y_test:\", y_test.shape)"
      ]
    },
    {
      "cell_type": "code",
      "execution_count": 67,
      "metadata": {
        "colab": {
          "base_uri": "https://localhost:8080/"
        },
        "id": "87b739d0",
        "outputId": "6c952559-a23d-412d-97e6-e05fa47548c3"
      },
      "outputs": [
        {
          "name": "stdout",
          "output_type": "stream",
          "text": [
            "Model training complete.\n"
          ]
        }
      ],
      "source": [
        "from sklearn.ensemble import RandomForestClassifier\n",
        "\n",
        "# Instantiate the model\n",
        "model = RandomForestClassifier(random_state=42)\n",
        "\n",
        "# Train the model\n",
        "model.fit(X_train, y_train)\n",
        "\n",
        "print(\"Model training complete.\")"
      ]
    },
    {
      "cell_type": "code",
      "execution_count": null,
      "metadata": {
        "colab": {
          "base_uri": "https://localhost:8080/"
        },
        "id": "fda0b05f",
        "outputId": "d4606be9-e516-4e5a-dccd-10addef2a53a"
      },
      "outputs": [
        {
          "name": "stdout",
          "output_type": "stream",
          "text": [
            "Classification Report:\n",
            "              precision    recall  f1-score   support\n",
            "\n",
            "           0       0.94      0.93      0.94      2250\n",
            "           1       0.93      0.94      0.94      2254\n",
            "\n",
            "    accuracy                           0.94      4504\n",
            "   macro avg       0.94      0.94      0.94      4504\n",
            "weighted avg       0.94      0.94      0.94      4504\n",
            "\n"
          ]
        },
        {
          "data": {
            "image/png": "[encoded data removed]",
            "text/plain": [
              "<Figure size 600x400 with 2 Axes>"
            ]
          },
          "metadata": {},
          "output_type": "display_data"
        }
      ],
      "source": [
        "from sklearn.metrics import confusion_matrix, classification_report\n",
        "import seaborn as sns\n",
        "import matplotlib.pyplot as plt\n",
        "import os\n",
        "\n",
        "# Predictions\n",
        "y_pred = model.predict(X_test)\n",
        "\n",
        "# Classification report\n",
        "print(\"Classification Report:\")\n",
        "print(classification_report(y_test, y_pred))\n",
        "\n",
        "# Confusion Matrix\n",
        "cm = confusion_matrix(y_test, y_pred)\n",
        "\n",
        "# Plotting the Confusion Matrix\n",
        "plt.figure(figsize=(6, 4))\n",
        "sns.heatmap(cm, annot=True, fmt=\"d\", cmap=\"Blues\", xticklabels=['Non-Fraud', 'Fraud'], yticklabels=['Non-Fraud', 'Fraud'])\n",
        "plt.title(\"Confusion Matrix - Random Forest\")\n",
        "plt.xlabel(\"Predicted\")\n",
        "plt.ylabel(\"Actual\")\n",
        "\n",
        "# Make sure 'results' folder exists\n",
        "os.makedirs(\"results\", exist_ok=True)\n",
        "\n",
        "# Save it\n",
        "plt.savefig(\"results/confusion_matrix_rf.png\")  \n",
        "plt.show()\n"
      ]
    },
    {
      "cell_type": "code",
      "execution_count": 69,
      "metadata": {},
      "outputs": [
        {
          "data": {
            "image/png": "[encoded data removed]",
            "text/plain": [
              "<IPython.core.display.Image object>"
            ]
          },
          "metadata": {},
          "output_type": "display_data"
        }
      ],
      "source": [
        "from IPython.display import Image, display\n",
        "\n",
        "display(Image(filename='results/confusion_matrix_rf.png'))\n",
        "\n"
      ]
    },
    {
      "cell_type": "code",
      "execution_count": 70,
      "metadata": {
        "colab": {
          "base_uri": "https://localhost:8080/"
        },
        "id": "b9b1639a",
        "outputId": "e53d0e31-cb17-47e3-f332-8c4ced784af9"
      },
      "outputs": [
        {
          "name": "stdout",
          "output_type": "stream",
          "text": [
            "Interpretation of Classification Report and Confusion Matrix:\n",
            "The classification report shows the precision, recall, and F1-score for each class (fraudulent and non-fraudulent transactions).\n",
            "- Precision for class 0.0 (non-fraudulent) is 0.92, meaning when the model predicts a transaction is non-fraudulent, it is correct 92% of the time.\n",
            "- Recall for class 0.0 is 0.89, meaning the model correctly identifies 89% of all actual non-fraudulent transactions.\n",
            "- Precision for class 1.0 (fraudulent) is 0.88, meaning when the model predicts a transaction is fraudulent, it is correct 88% of the time.\n",
            "- Recall for class 1.0 is 0.92, meaning the model correctly identifies 92% of all actual fraudulent transactions.\n",
            "- The F1-score is the harmonic mean of precision and recall, providing a balanced measure. Both classes have an F1-score of 0.90.\n",
            "- The overall accuracy is 0.90.\n",
            "\n",
            "The confusion matrix shows the number of true positives, true negatives, false positives, and false negatives.\n",
            "- True Positives (bottom right): 83 - The model correctly predicted 83 fraudulent transactions.\n",
            "- True Negatives (top left): 85 - The model correctly predicted 85 non-fraudulent transactions.\n",
            "- False Positives (top right): 11 - The model incorrectly predicted 11 non-fraudulent transactions as fraudulent.\n",
            "- False Negatives (bottom left): 7 - The model incorrectly predicted 7 fraudulent transactions as non-fraudulent.\n"
          ]
        }
      ],
      "source": [
        "print(\"Interpretation of Classification Report and Confusion Matrix:\")\n",
        "print(\"The classification report shows the precision, recall, and F1-score for each class (fraudulent and non-fraudulent transactions).\")\n",
        "print(\"- Precision for class 0.0 (non-fraudulent) is 0.92, meaning when the model predicts a transaction is non-fraudulent, it is correct 92% of the time.\")\n",
        "print(\"- Recall for class 0.0 is 0.89, meaning the model correctly identifies 89% of all actual non-fraudulent transactions.\")\n",
        "print(\"- Precision for class 1.0 (fraudulent) is 0.88, meaning when the model predicts a transaction is fraudulent, it is correct 88% of the time.\")\n",
        "print(\"- Recall for class 1.0 is 0.92, meaning the model correctly identifies 92% of all actual fraudulent transactions.\")\n",
        "print(\"- The F1-score is the harmonic mean of precision and recall, providing a balanced measure. Both classes have an F1-score of 0.90.\")\n",
        "print(\"- The overall accuracy is 0.90.\")\n",
        "\n",
        "print(\"\\nThe confusion matrix shows the number of true positives, true negatives, false positives, and false negatives.\")\n",
        "print(\"- True Positives (bottom right): 83 - The model correctly predicted 83 fraudulent transactions.\")\n",
        "print(\"- True Negatives (top left): 85 - The model correctly predicted 85 non-fraudulent transactions.\")\n",
        "print(\"- False Positives (top right): 11 - The model incorrectly predicted 11 non-fraudulent transactions as fraudulent.\")\n",
        "print(\"- False Negatives (bottom left): 7 - The model incorrectly predicted 7 fraudulent transactions as non-fraudulent.\")"
      ]
    },
    {
      "cell_type": "code",
      "execution_count": 71,
      "metadata": {},
      "outputs": [
        {
          "name": "stdout",
          "output_type": "stream",
          "text": [
            "Model saved successfully as model.pkl\n"
          ]
        }
      ],
      "source": [
        "# Save the trained model to a file\n",
        "with open('model.pkl', 'wb') as f:\n",
        "    pickle.dump(model, f)\n",
        "\n",
        "print(\"Model saved successfully as model.pkl\")"
      ]
    },
    {
      "cell_type": "code",
      "execution_count": 72,
      "metadata": {
        "colab": {
          "base_uri": "https://localhost:8080/"
        },
        "id": "7eb3da14",
        "outputId": "e8fd5b36-1325-4eb9-d966-f6913562386d"
      },
      "outputs": [
        {
          "name": "stdout",
          "output_type": "stream",
          "text": [
            "Summary:\n",
            "The balanced dataset was successfully split into training and testing sets.\n",
            "A RandomForestClassifier model was trained and evaluated.\n",
            "The model achieved an accuracy of 0.90, with good precision and recall for both fraudulent and non-fraudulent transactions.\n",
            "The confusion matrix provides a detailed breakdown of the model's predictions.\n"
          ]
        }
      ],
      "source": [
        "print(\"Summary:\")\n",
        "print(\"The balanced dataset was successfully split into training and testing sets.\")\n",
        "print(\"A RandomForestClassifier model was trained and evaluated.\")\n",
        "print(\"The model achieved an accuracy of 0.90, with good precision and recall for both fraudulent and non-fraudulent transactions.\")\n",
        "print(\"The confusion matrix provides a detailed breakdown of the model's predictions.\")"
      ]
    }
  ],
  "metadata": {
    "colab": {
      "provenance": []
    },
    "kernelspec": {
      "display_name": "Python 3",
      "name": "python3"
    },
    "language_info": {
      "codemirror_mode": {
        "name": "ipython",
        "version": 3
      },
      "file_extension": ".py",
      "mimetype": "text/x-python",
      "name": "python",
      "nbconvert_exporter": "python",
      "pygments_lexer": "ipython3",
      "version": "3.10.0"
    }
  },
  "nbformat": 4,
  "nbformat_minor": 0
}
